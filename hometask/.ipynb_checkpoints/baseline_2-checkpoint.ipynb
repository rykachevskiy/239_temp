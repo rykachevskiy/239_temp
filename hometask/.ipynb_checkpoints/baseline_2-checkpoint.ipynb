{
 "cells": [
  {
   "cell_type": "markdown",
   "metadata": {},
   "source": [
    "Задача следующая: <br>\n",
    "В x_train и y_train находится датасет из 3000 примеров. Каждый пример в x_train это набор физических измерений морского ушка(!), по этим измерениям нужно научиться предсказывать возраст этого организма, который указан в y_train. <br>\n",
    "x_train и y_train надо использовать чтобы обучить разные модели и валидировать их. Напоминаю прилизительный арсенал того что нужно использовать\\попробовать:\n",
    "- Выбор модели (LinearRegression, Ridge, Lasso, ElasticNet)\n",
    "- Настройка регуляризации alpha\n",
    "- Дизайн признаков - добавить степени, призведения или что-нибудь еще\n",
    "\n",
    "Потом с помощью самой лучшей модели надо построить предсказания для x_test, сохранить их в файл и отправить мне на почту, с названием файла  surname_test_prediction.npy . <br>\n",
    "У меня есть ответ для этих данных, я посчитаю R-score и на занятии обсудим лучшие решения.\n",
    "\n",
    "Ниже пример для дефолтной линейной регрессии."
   ]
  },
  {
   "cell_type": "code",
   "execution_count": 1,
   "metadata": {},
   "outputs": [],
   "source": [
    "import numpy as np\n",
    "def mean(numbers):\n",
    "    return float(sum(numbers)) / max(len(numbers), 1)"
   ]
  },
  {
   "cell_type": "code",
   "execution_count": 2,
   "metadata": {},
   "outputs": [],
   "source": [
    "x_train = np.load('./data/x_train.npy')\n",
    "y_train = np.load('./data/y_train.npy')\n",
    "x_test = np.load('./data/x_test.npy')\n",
    "scores = []"
   ]
  },
  {
   "cell_type": "code",
   "execution_count": 5,
   "metadata": {},
   "outputs": [],
   "source": [
    "def proisw(arr):\n",
    "    pr= 1\n",
    "    for i in range(len(arr)):\n",
    "        pr+=arr[i]**i\n",
    "    return(pr)"
   ]
  },
  {
   "cell_type": "code",
   "execution_count": 6,
   "metadata": {},
   "outputs": [],
   "source": [
    "def R_score(y_test,y_pred):\n",
    "    u = 0\n",
    "    v = 0\n",
    "    for i in range(len(y_test)):\n",
    "        u+=(y_test[i]-y_pred[i])**2\n",
    "        v+=(y_test[i]-mean(y_test))**2\n",
    "    return(1-u/v)\n"
   ]
  },
  {
   "cell_type": "code",
   "execution_count": 7,
   "metadata": {},
   "outputs": [],
   "source": [
    "#Ridge 0.5 0.45\n",
    "#lasso 0 0.45\n",
    "#0.3135864609679739\n",
    "#"
   ]
  },
  {
   "cell_type": "code",
   "execution_count": 8,
   "metadata": {},
   "outputs": [
    {
     "name": "stderr",
     "output_type": "stream",
     "text": [
      "/home/anton/anaconda3/lib/python3.6/site-packages/sklearn/cross_validation.py:41: DeprecationWarning: This module was deprecated in version 0.18 in favor of the model_selection module into which all the refactored classes and functions are moved. Also note that the interface of the new CV iterators are different from that of this module. This module will be removed in 0.20.\n",
      "  \"This module will be removed in 0.20.\", DeprecationWarning)\n"
     ]
    }
   ],
   "source": [
    "from sklearn.linear_model import Ridge,LinearRegression,Lasso,ElasticNet\n",
    "from sklearn.cross_validation import KFold"
   ]
  },
  {
   "cell_type": "code",
   "execution_count": 9,
   "metadata": {},
   "outputs": [
    {
     "name": "stdout",
     "output_type": "stream",
     "text": [
      "0.31401497019247643\n"
     ]
    }
   ],
   "source": [
    "folds = KFold(10)\n",
    "prev = []\n",
    "score = []\n",
    "for trainind,testind in KFold(len(y_train)):\n",
    "    modl = Ridge(0.3225)\n",
    "    modl.fit(x_train[trainind],y_train[trainind])\n",
    "    score.append(R_score(y_train[testind],modl.predict(x_train[testind])))\n",
    "print(mean(score))"
   ]
  },
  {
   "cell_type": "code",
   "execution_count": 10,
   "metadata": {},
   "outputs": [
    {
     "data": {
      "text/plain": [
       "[0.43812331982878017, -0.054589765302019755, 0.5585113560506689]"
      ]
     },
     "execution_count": 10,
     "metadata": {},
     "output_type": "execute_result"
    }
   ],
   "source": [
    "score"
   ]
  },
  {
   "cell_type": "code",
   "execution_count": 123,
   "metadata": {},
   "outputs": [],
   "source": [
    "x_learn1 = x_train[:5*len(x_train)//6]\n",
    "y_learn1 = y_train[:5*len(y_train)//6]\n",
    "x_test1 = x_train[5*len(x_train)//6:]\n",
    "y_test1 = y_train[5*len(y_train)//6:]\n",
    "\n",
    "lr = ElasticNet(0.000257)\n",
    "lr1 = Ridge(0.3225)\n",
    "lr2 = LinearRegression()"
   ]
  },
  {
   "cell_type": "code",
   "execution_count": 124,
   "metadata": {},
   "outputs": [
    {
     "data": {
      "text/plain": [
       "LinearRegression(copy_X=True, fit_intercept=True, n_jobs=1, normalize=False)"
      ]
     },
     "execution_count": 124,
     "metadata": {},
     "output_type": "execute_result"
    }
   ],
   "source": [
    "lr.fit(x_learn1, y_learn1)\n",
    "lr1.fit(x_learn1, y_learn1)\n",
    "lr2.fit(x_learn1, y_learn1)"
   ]
  },
  {
   "cell_type": "code",
   "execution_count": 125,
   "metadata": {},
   "outputs": [
    {
     "data": {
      "text/plain": [
       "0.2660242581387807"
      ]
     },
     "execution_count": 125,
     "metadata": {},
     "output_type": "execute_result"
    }
   ],
   "source": [
    "ypred = lr.predict(x_test1)\n",
    "R_score(y_test1,ypred)\n",
    "\n"
   ]
  },
  {
   "cell_type": "code",
   "execution_count": 126,
   "metadata": {},
   "outputs": [
    {
     "data": {
      "text/plain": [
       "0.26492560814492716"
      ]
     },
     "execution_count": 126,
     "metadata": {},
     "output_type": "execute_result"
    }
   ],
   "source": [
    "ypred = lr1.predict(x_test1)\n",
    "R_score(y_test1,ypred)"
   ]
  },
  {
   "cell_type": "code",
   "execution_count": 127,
   "metadata": {},
   "outputs": [],
   "source": [
    "#0.5147498649978994 ridge 0.323"
   ]
  },
  {
   "cell_type": "code",
   "execution_count": 128,
   "metadata": {},
   "outputs": [
    {
     "data": {
      "text/plain": [
       "0.233103743479377"
      ]
     },
     "execution_count": 128,
     "metadata": {},
     "output_type": "execute_result"
    }
   ],
   "source": [
    "ypred = lr2.predict(x_test1)\n",
    "R_score(y_test1,ypred)"
   ]
  },
  {
   "cell_type": "code",
   "execution_count": 13,
   "metadata": {},
   "outputs": [
    {
     "data": {
      "text/plain": [
       "ElasticNet(alpha=0.000257, copy_X=True, fit_intercept=True, l1_ratio=0.5,\n",
       "      max_iter=1000, normalize=False, positive=False, precompute=False,\n",
       "      random_state=None, selection='cyclic', tol=0.0001, warm_start=False)"
      ]
     },
     "execution_count": 13,
     "metadata": {},
     "output_type": "execute_result"
    }
   ],
   "source": [
    "lr = ElasticNet(0.000257)\n",
    "lr.fit(x_train, y_train)"
   ]
  },
  {
   "cell_type": "code",
   "execution_count": 205,
   "metadata": {},
   "outputs": [],
   "source": [
    "y_pred = lr.predict(x_test)"
   ]
  },
  {
   "cell_type": "code",
   "execution_count": 136,
   "metadata": {},
   "outputs": [],
   "source": [
    "lr = Ridge(0.3225)\n",
    "lr.fit(x_train, y_train)\n",
    "y_pred = lr.predict(x_test)"
   ]
  },
  {
   "cell_type": "code",
   "execution_count": 137,
   "metadata": {},
   "outputs": [],
   "source": [
    "np.save(\"./test\", y_pred)"
   ]
  },
  {
   "cell_type": "code",
   "execution_count": null,
   "metadata": {},
   "outputs": [],
   "source": []
  },
  {
   "cell_type": "code",
   "execution_count": null,
   "metadata": {},
   "outputs": [],
   "source": []
  },
  {
   "cell_type": "code",
   "execution_count": null,
   "metadata": {},
   "outputs": [],
   "source": []
  }
 ],
 "metadata": {
  "kernelspec": {
   "display_name": "Python 3",
   "language": "python",
   "name": "python3"
  },
  "language_info": {
   "codemirror_mode": {
    "name": "ipython",
    "version": 3
   },
   "file_extension": ".py",
   "mimetype": "text/x-python",
   "name": "python",
   "nbconvert_exporter": "python",
   "pygments_lexer": "ipython3",
   "version": "3.6.3"
  }
 },
 "nbformat": 4,
 "nbformat_minor": 2
}
