{
 "cells": [
  {
   "cell_type": "markdown",
   "metadata": {},
   "source": [
    "Задача следующая: <br>\n",
    "В x_train и y_train находится датасет из 3000 примеров. Каждый пример в x_train это набор физических измерений морского ушка(!), по этим измерениям нужно научиться предсказывать возраст этого организма, который указан в y_train. <br>\n",
    "x_train и y_train надо использовать чтобы обучить разные модели и валидировать их. Напоминаю прилизительный арсенал того что нужно использовать\\попробовать:\n",
    "- Выбор модели (LinearRegression, Ridge, Lasso, ElasticNet)\n",
    "- Настройка регуляризации alpha\n",
    "- Дизайн признаков - добавить степени, призведения или что-нибудь еще\n",
    "\n",
    "Потом с помощью самой лучшей модели надо построить предсказания для x_test, сохранить их в файл и отправить мне на почту, с названием файла  surname_test_prediction.npy . <br>\n",
    "У меня есть ответ для этих данных, я посчитаю R-score и на занятии обсудим лучшие решения.\n",
    "\n",
    "Ниже пример для дефолтной линейной регрессии."
   ]
  },
  {
   "cell_type": "code",
   "execution_count": 7,
   "metadata": {},
   "outputs": [],
   "source": [
    "import numpy as np"
   ]
  },
  {
   "cell_type": "code",
   "execution_count": 8,
   "metadata": {},
   "outputs": [],
   "source": [
    "x_train = np.load('./data/x_train.npy')\n",
    "y_train = np.load('./data/y_train.npy')\n",
    "\n",
    "x_test = np.load('./data/x_test.npy')"
   ]
  },
  {
   "cell_type": "code",
   "execution_count": 9,
   "metadata": {},
   "outputs": [],
   "source": [
    "from sklearn.linear_model import LinearRegression"
   ]
  },
  {
   "cell_type": "code",
   "execution_count": 10,
   "metadata": {},
   "outputs": [],
   "source": [
    "lr = LinearRegression()"
   ]
  },
  {
   "cell_type": "code",
   "execution_count": 11,
   "metadata": {},
   "outputs": [
    {
     "data": {
      "text/plain": [
       "LinearRegression(copy_X=True, fit_intercept=True, n_jobs=1, normalize=False)"
      ]
     },
     "execution_count": 11,
     "metadata": {},
     "output_type": "execute_result"
    }
   ],
   "source": [
    "lr.fit(x_train, y_train)"
   ]
  },
  {
   "cell_type": "code",
   "execution_count": 12,
   "metadata": {},
   "outputs": [],
   "source": [
    "y_pred = lr.predict(x_test)"
   ]
  },
  {
   "cell_type": "code",
   "execution_count": null,
   "metadata": {},
   "outputs": [],
   "source": []
  },
  {
   "cell_type": "markdown",
   "metadata": {},
   "source": [
    "## Train test split"
   ]
  },
  {
   "cell_type": "code",
   "execution_count": 13,
   "metadata": {},
   "outputs": [],
   "source": [
    "from sklearn.model_selection import train_test_split"
   ]
  },
  {
   "cell_type": "markdown",
   "metadata": {},
   "source": [
    "Пример работы"
   ]
  },
  {
   "cell_type": "code",
   "execution_count": 16,
   "metadata": {
    "scrolled": true
   },
   "outputs": [
    {
     "name": "stdout",
     "output_type": "stream",
     "text": [
      "train: ['d' 'f' 'b' 'a'] [1 0 1 0]\n",
      "val: ['e' 'c'] [1 1]\n"
     ]
    }
   ],
   "source": [
    "xl = np.array(['a', 'b', 'c', 'd', 'e', 'f'])\n",
    "yl = np.array([0,1,1,1,1,0])\n",
    "x_tr, x_val, y_tr, y_val = train_test_split(xl, yl)\n",
    "\n",
    "print('train:', x_tr, y_tr)\n",
    "print('val:', x_val, y_val)"
   ]
  },
  {
   "cell_type": "markdown",
   "metadata": {},
   "source": [
    "Теперь пользуясь функцией train_test_split разбейте выборку, затем создайте модель и сделайте предсказания"
   ]
  },
  {
   "cell_type": "code",
   "execution_count": null,
   "metadata": {},
   "outputs": [],
   "source": [
    "*your code here*"
   ]
  },
  {
   "cell_type": "code",
   "execution_count": null,
   "metadata": {},
   "outputs": [],
   "source": [
    "model = *your code here*\n",
    "model.fit(*your code here*)\n",
    "\n",
    "pred = *your code here*"
   ]
  },
  {
   "cell_type": "markdown",
   "metadata": {},
   "source": [
    "Чтобы проверить модель, нужно реализовать метрику R-score"
   ]
  },
  {
   "cell_type": "code",
   "execution_count": null,
   "metadata": {},
   "outputs": [],
   "source": [
    "def r_score(y_true, y_pred):\n",
    "    *your code here*\n",
    "    return "
   ]
  },
  {
   "cell_type": "markdown",
   "metadata": {},
   "source": [
    "Теперь проверим предсказания модели"
   ]
  },
  {
   "cell_type": "code",
   "execution_count": null,
   "metadata": {},
   "outputs": [],
   "source": [
    "print(r_score(*your code here*))"
   ]
  },
  {
   "cell_type": "markdown",
   "metadata": {},
   "source": [
    "Чтобы сверить с r_score из sklearn, импортируйте его сюда и сравните результаты"
   ]
  },
  {
   "cell_type": "code",
   "execution_count": null,
   "metadata": {},
   "outputs": [],
   "source": []
  },
  {
   "cell_type": "markdown",
   "metadata": {},
   "source": [
    "### Теперь делаем все тоже самое, только вместо train-test-split используем k-fold"
   ]
  },
  {
   "cell_type": "markdown",
   "metadata": {},
   "source": [
    "Пример кросс валидации из sklearn"
   ]
  },
  {
   "cell_type": "code",
   "execution_count": 29,
   "metadata": {},
   "outputs": [],
   "source": [
    "from sklearn.model_selection import KFold"
   ]
  },
  {
   "cell_type": "markdown",
   "metadata": {},
   "source": [
    "создаем объект кросс валидации с 3 фолдами"
   ]
  },
  {
   "cell_type": "code",
   "execution_count": 30,
   "metadata": {},
   "outputs": [],
   "source": [
    "kfold = KFold(3)"
   ]
  },
  {
   "cell_type": "markdown",
   "metadata": {},
   "source": [
    "создаем массив для пробы"
   ]
  },
  {
   "cell_type": "code",
   "execution_count": 31,
   "metadata": {},
   "outputs": [],
   "source": [
    "l = np.array(['a', 'b', 'c', 'd', 'e', 'f'])"
   ]
  },
  {
   "cell_type": "markdown",
   "metadata": {},
   "source": [
    "теперь используем метод kfold.split(), чтобы получить индексы обучающей и проверочной части датасета. "
   ]
  },
  {
   "cell_type": "code",
   "execution_count": 34,
   "metadata": {},
   "outputs": [
    {
     "name": "stdout",
     "output_type": "stream",
     "text": [
      "train_index:  [2 3 4 5]\n",
      "test_index:  [0 1]\n",
      "train_data: ['c' 'd' 'e' 'f']\n",
      "test_data: ['a' 'b']\n",
      "\n",
      "\n",
      "train_index:  [0 1 4 5]\n",
      "test_index:  [2 3]\n",
      "train_data: ['a' 'b' 'e' 'f']\n",
      "test_data: ['c' 'd']\n",
      "\n",
      "\n",
      "train_index:  [0 1 2 3]\n",
      "test_index:  [4 5]\n",
      "train_data: ['a' 'b' 'c' 'd']\n",
      "test_data: ['e' 'f']\n",
      "\n",
      "\n"
     ]
    }
   ],
   "source": [
    "for train_index, validation_index in kfold.split(l):\n",
    "    print('train_index: ', train_index)\n",
    "    print('test_index: ', validation_index)\n",
    "    \n",
    "    train_data = l[train_index]\n",
    "    test_data = l[validation_index]\n",
    "    \n",
    "    print('train_data:', train_data)\n",
    "    print('test_data:', test_data)\n",
    "    \n",
    "    print(\"\\n\")"
   ]
  },
  {
   "cell_type": "markdown",
   "metadata": {},
   "source": [
    "#### Теперь давайте проверим модель с помощью кросс валидации"
   ]
  },
  {
   "cell_type": "code",
   "execution_count": null,
   "metadata": {},
   "outputs": [],
   "source": [
    "model = *your code here*\n",
    "\n",
    "#сюда сложим все предсказания\n",
    "predictions = []\n",
    "\n",
    "\n",
    "kfold = KFold(5)\n",
    "for train_index, validation_index in kfold.split(*your code here*):\n",
    "    x_tr, y_tr = *your code here*\n",
    "    x_val, y_val = *your code here*\n",
    "    \n",
    "    model.fit(*your code here*)\n",
    "    \n",
    "    #Предсказания для текущего фолда\n",
    "    fold_predict = model.predict(*your code here*)\n",
    "    \n",
    "    #нужно добавить предсказания для текущего фолда в predictions\n",
    "    *your code here*"
   ]
  },
  {
   "cell_type": "markdown",
   "metadata": {},
   "source": [
    "Теперь посчитайте R-score"
   ]
  },
  {
   "cell_type": "code",
   "execution_count": null,
   "metadata": {},
   "outputs": [],
   "source": [
    "*your code here*"
   ]
  },
  {
   "cell_type": "code",
   "execution_count": null,
   "metadata": {},
   "outputs": [],
   "source": []
  },
  {
   "cell_type": "markdown",
   "metadata": {},
   "source": [
    "### Много моделей на KFold"
   ]
  },
  {
   "cell_type": "markdown",
   "metadata": {},
   "source": [
    "Напишите функцию, которая проверяет модель на данных"
   ]
  },
  {
   "cell_type": "code",
   "execution_count": null,
   "metadata": {},
   "outputs": [],
   "source": [
    "def check_model(model, x, y):\n",
    "    \n",
    "    *your code here*\n",
    "    \n",
    "    print(r_score)"
   ]
  },
  {
   "cell_type": "markdown",
   "metadata": {},
   "source": [
    "Теперь создадим зоопарк моделей "
   ]
  },
  {
   "cell_type": "code",
   "execution_count": null,
   "metadata": {},
   "outputs": [],
   "source": [
    "model_1 = *your code here*\n",
    "model_2 = *your code here*\n",
    "*your code here*\n",
    "\n",
    "all_models = [model_1, model_2]"
   ]
  },
  {
   "cell_type": "markdown",
   "metadata": {},
   "source": [
    "проверим для всех моделей"
   ]
  },
  {
   "cell_type": "code",
   "execution_count": null,
   "metadata": {},
   "outputs": [],
   "source": [
    "for m in all_models:\n",
    "    check_model(model, x_train, y_train)"
   ]
  },
  {
   "cell_type": "code",
   "execution_count": null,
   "metadata": {},
   "outputs": [],
   "source": []
  },
  {
   "cell_type": "markdown",
   "metadata": {},
   "source": [
    "### Улучшим данные"
   ]
  },
  {
   "cell_type": "markdown",
   "metadata": {},
   "source": [
    "Добавьте в Х попраные произведения и квадраты"
   ]
  },
  {
   "cell_type": "code",
   "execution_count": null,
   "metadata": {},
   "outputs": [],
   "source": [
    "def add_poly_2(x):\n",
    "    *your code here*\n",
    "    \n",
    "    return x_poly_2"
   ]
  },
  {
   "cell_type": "markdown",
   "metadata": {},
   "source": [
    "Проверьте модели на обновленном датасете"
   ]
  },
  {
   "cell_type": "code",
   "execution_count": null,
   "metadata": {},
   "outputs": [],
   "source": [
    "x_poly_2 = add_poly_2(x)"
   ]
  }
 ],
 "metadata": {
  "kernelspec": {
   "display_name": "Python 3",
   "language": "python",
   "name": "python3"
  },
  "language_info": {
   "codemirror_mode": {
    "name": "ipython",
    "version": 3
   },
   "file_extension": ".py",
   "mimetype": "text/x-python",
   "name": "python",
   "nbconvert_exporter": "python",
   "pygments_lexer": "ipython3",
   "version": "3.6.3"
  }
 },
 "nbformat": 4,
 "nbformat_minor": 2
}
